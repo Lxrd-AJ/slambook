{
 "cells": [
  {
   "cell_type": "code",
   "execution_count": 1,
   "metadata": {},
   "outputs": [
    {
     "name": "stdout",
     "output_type": "stream",
     "text": [
      "Collecting sophuspy\n",
      "  Downloading sophuspy-1.2.0.tar.gz (1.2 MB)\n",
      "\u001b[2K     \u001b[90m━━━━━━━━━━━━━━━━━━━━━━━━━━━━━━━━━━━━━━━━\u001b[0m \u001b[32m1.2/1.2 MB\u001b[0m \u001b[31m10.3 MB/s\u001b[0m eta \u001b[36m0:00:00\u001b[0m00:01\u001b[0m00:01\u001b[0m\n",
      "\u001b[?25h  Installing build dependencies ... \u001b[?25ldone\n",
      "\u001b[?25h  Getting requirements to build wheel ... \u001b[?25ldone\n",
      "\u001b[?25h  Preparing metadata (pyproject.toml) ... \u001b[?25ldone\n",
      "\u001b[?25hRequirement already satisfied: numpy in /Users/aj/.pyenv/versions/3.12.2/lib/python3.12/site-packages (from sophuspy) (1.26.4)\n",
      "Building wheels for collected packages: sophuspy\n",
      "  Building wheel for sophuspy (pyproject.toml) ... \u001b[?25ldone\n",
      "\u001b[?25h  Created wheel for sophuspy: filename=sophuspy-1.2.0-cp312-cp312-macosx_14_0_arm64.whl size=197019 sha256=f453c8c1750d4ecc8c36168ccd5be010027967ca6ae4d18fe494046f2ca1bb0a\n",
      "  Stored in directory: /Users/aj/Library/Caches/pip/wheels/27/0d/47/559ce5edf9b42cfc2aa2ba78f0e9df60f20b2eb642c0689461\n",
      "Successfully built sophuspy\n",
      "Installing collected packages: sophuspy\n",
      "Successfully installed sophuspy-1.2.0\n",
      "\n",
      "\u001b[1m[\u001b[0m\u001b[34;49mnotice\u001b[0m\u001b[1;39;49m]\u001b[0m\u001b[39;49m A new release of pip is available: \u001b[0m\u001b[31;49m24.1.2\u001b[0m\u001b[39;49m -> \u001b[0m\u001b[32;49m24.2\u001b[0m\n",
      "\u001b[1m[\u001b[0m\u001b[34;49mnotice\u001b[0m\u001b[1;39;49m]\u001b[0m\u001b[39;49m To update, run: \u001b[0m\u001b[32;49mpip install --upgrade pip\u001b[0m\n",
      "Note: you may need to restart the kernel to use updated packages.\n"
     ]
    }
   ],
   "source": [
    "%pip install sophuspy"
   ]
  },
  {
   "cell_type": "code",
   "execution_count": 1,
   "metadata": {},
   "outputs": [],
   "source": [
    "import numpy as np\n",
    "import sophuspy as sp\n",
    "from scipy.spatial.transform import Rotation as R"
   ]
  },
  {
   "cell_type": "code",
   "execution_count": 4,
   "metadata": {},
   "outputs": [
    {
     "name": "stdout",
     "output_type": "stream",
     "text": [
      "SO3([[2.22044604925031e-16,                   -1,                    0],\n",
      "     [                   1, 2.22044604925031e-16,                    0],\n",
      "     [                   0,                    0,                    1]])\n"
     ]
    }
   ],
   "source": [
    "r = R.from_rotvec(np.pi/2 * np.array([0, 0, 1])) # 90 degreee rotation along the z-axis\n",
    "\n",
    "rSP = sp.SO3(r.as_matrix())\n",
    "print(rSP)"
   ]
  },
  {
   "cell_type": "code",
   "execution_count": 14,
   "metadata": {},
   "outputs": [
    {
     "name": "stdout",
     "output_type": "stream",
     "text": [
      "[0.         0.         1.57079633]\n",
      "[[ 0.         -1.57079633  0.        ]\n",
      " [ 1.57079633  0.         -0.        ]\n",
      " [-0.          0.          0.        ]]\n"
     ]
    }
   ],
   "source": [
    "# use logarithmic map to get the lie algebra\n",
    "so3 = rSP.log()\n",
    "print(so3)\n",
    "\n",
    "# use the `hat` method to convert to a skew-symmetric matrix\n",
    "so3sm = sp.SO3.hat(so3)\n",
    "print(so3sm)\n",
    "\n",
    "# convert skew-symmetric matrix to a vector using `vee`\n",
    "# vee = sp.SO3.vee(so3sm) <-- The `vee` operator doesn't exist, will update this via a pull request to https://github.com/craigstar/SophusPy\n",
    "\n",
    "# update by perturbation model "
   ]
  }
 ],
 "metadata": {
  "kernelspec": {
   "display_name": "Python 3",
   "language": "python",
   "name": "python3"
  },
  "language_info": {
   "codemirror_mode": {
    "name": "ipython",
    "version": 3
   },
   "file_extension": ".py",
   "mimetype": "text/x-python",
   "name": "python",
   "nbconvert_exporter": "python",
   "pygments_lexer": "ipython3",
   "version": "3.12.2"
  }
 },
 "nbformat": 4,
 "nbformat_minor": 2
}

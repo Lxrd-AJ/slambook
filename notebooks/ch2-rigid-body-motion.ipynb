{
 "cells": [
  {
   "cell_type": "markdown",
   "metadata": {},
   "source": [
    "# 3D Rigid Body Motion\n",
    "\n",
    "## Using Numpy/Scipy as a replacement for Eigen"
   ]
  },
  {
   "cell_type": "code",
   "execution_count": 66,
   "metadata": {},
   "outputs": [],
   "source": [
    "import numpy as np"
   ]
  },
  {
   "cell_type": "markdown",
   "metadata": {},
   "source": [
    "### Basic Matrix Ops"
   ]
  },
  {
   "cell_type": "code",
   "execution_count": 67,
   "metadata": {},
   "outputs": [
    {
     "name": "stdout",
     "output_type": "stream",
     "text": [
      "Transpose = [[ 0.09901086 -1.11990578  0.1665566 ]\n",
      " [-1.44058641 -0.6945656  -1.27538648]\n",
      " [-1.72246644  0.72816944 -0.04993891]]\n",
      "\n",
      "Sum: -5.309112727511681\n",
      "Trace: -0.6454936449429404\n",
      "\n",
      "Scalar multiplication: [[  0.99010865 -14.40586412 -17.2246644 ]\n",
      " [-11.19905785  -6.94565598   7.28169437]\n",
      " [  1.66556598 -12.7538648   -0.49938912]]\n",
      "\n",
      "Inverse matrix: [[-0.36241304 -0.79934982  0.84467588]\n",
      " [-0.02458558 -0.10606376 -0.69854442]\n",
      " [-0.5808329   0.04275828  0.63278196]]\n",
      "\n",
      "Determinant: -2.6582467838983166\n"
     ]
    }
   ],
   "source": [
    "m = np.random.randn(3,3)\n",
    "print(f\"Transpose = {m.T}\")\n",
    "print(f\"\\nSum: {m.sum()}\")\n",
    "print(f\"Trace: {m.trace()}\")\n",
    "print(f\"\\nScalar multiplication: {m * 10}\")\n",
    "print(f\"\\nInverse matrix: {np.linalg.inv(m)}\") # <- Computed inverse using LU factorisation\n",
    "print(f\"\\nDeterminant: {np.linalg.det(m)}\")"
   ]
  },
  {
   "cell_type": "code",
   "execution_count": 68,
   "metadata": {},
   "outputs": [
    {
     "name": "stdout",
     "output_type": "stream",
     "text": [
      "Eigen Values: [0.46141632 2.58117607 5.93307734]\n",
      "Eigen Vectors: [[ 0.78526704  0.61487933 -0.07265731]\n",
      " [-0.36366628  0.55301889  0.7496112 ]\n",
      " [ 0.50110129 -0.56222195  0.65787839]]\n"
     ]
    }
   ],
   "source": [
    "# Eigen values\n",
    "s = m.T @ m # construct a real symmetric matrix: A^T A\n",
    "eigVals, eigVecs = np.linalg.eigh(s) # `eigh` is optimised for symmetric matrices, compared to the generalist `eig`\n",
    "print(f\"Eigen Values: {eigVals}\")\n",
    "print(f\"Eigen Vectors: {eigVecs}\")"
   ]
  },
  {
   "cell_type": "code",
   "execution_count": 69,
   "metadata": {},
   "outputs": [],
   "source": [
    "# Solving Equations\n",
    "sz = 100\n",
    "A = np.random.randn(sz, sz)\n",
    "A = A @ A.T # Make `A` into a positive semi-definite matrix (x^T.M.x >= 0) by representing it as a symmetric matrix\n",
    "b = np.random.randn(sz)\n",
    "# By positive semi-definiteness, `b.T @ A @ b` >= 0"
   ]
  },
  {
   "cell_type": "code",
   "execution_count": 70,
   "metadata": {},
   "outputs": [
    {
     "name": "stdout",
     "output_type": "stream",
     "text": [
      "Condition number for A: 76999.02863004227, (could be worse)\n",
      "175.88641413984547\n"
     ]
    }
   ],
   "source": [
    "# by direct inversion using LU factorisation\n",
    "x = np.linalg.inv(A) * b\n",
    "print(f\"Condition number for A: {np.linalg.cond(A)}, (could be worse)\")\n",
    "print(np.linalg.norm(x))"
   ]
  },
  {
   "cell_type": "code",
   "execution_count": 71,
   "metadata": {},
   "outputs": [
    {
     "name": "stdout",
     "output_type": "stream",
     "text": [
      "269.4752292531543\n"
     ]
    }
   ],
   "source": [
    "# QR decomposition\n",
    "import scipy\n",
    "def qr_solve(A, b):\n",
    "    Q, R = np.linalg.qr(A)\n",
    "    # Q is orthonormal, therefore, its transpose is also its inverse\n",
    "    p = Q.T @ b\n",
    "    Rinv = np.linalg.inv(R) # can't be bothered to solve directly using upper triangular R structure\n",
    "    return Rinv @ p\n",
    "    # return scipy.linalg.solve_triangular(R, p)\n",
    "\n",
    "x = qr_solve(A, b)\n",
    "print(np.linalg.norm(x)) # <- norm is much lower here, QR decomp is much more stable and accurate"
   ]
  },
  {
   "cell_type": "code",
   "execution_count": 72,
   "metadata": {},
   "outputs": [
    {
     "name": "stdout",
     "output_type": "stream",
     "text": [
      "269.4752292528302\n"
     ]
    }
   ],
   "source": [
    "# Cholesky decomp\n",
    "L = np.linalg.cholesky(A)\n",
    "y = np.linalg.solve(L, b)\n",
    "x = np.linalg.solve(L.T, y)\n",
    "print(np.linalg.norm(x))"
   ]
  }
 ],
 "metadata": {
  "kernelspec": {
   "display_name": "Python 3",
   "language": "python",
   "name": "python3"
  },
  "language_info": {
   "codemirror_mode": {
    "name": "ipython",
    "version": 3
   },
   "file_extension": ".py",
   "mimetype": "text/x-python",
   "name": "python",
   "nbconvert_exporter": "python",
   "pygments_lexer": "ipython3",
   "version": "3.12.2"
  }
 },
 "nbformat": 4,
 "nbformat_minor": 2
}

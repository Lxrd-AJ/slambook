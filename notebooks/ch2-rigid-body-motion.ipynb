{
 "cells": [
  {
   "cell_type": "markdown",
   "metadata": {},
   "source": [
    "# 3D Rigid Body Motion\n",
    "\n",
    "## Using Numpy/Scipy as a replacement for Eigen"
   ]
  },
  {
   "cell_type": "code",
   "execution_count": 1,
   "metadata": {},
   "outputs": [],
   "source": [
    "import numpy as np"
   ]
  },
  {
   "cell_type": "markdown",
   "metadata": {},
   "source": [
    "### Basic Matrix Ops"
   ]
  },
  {
   "cell_type": "code",
   "execution_count": 2,
   "metadata": {},
   "outputs": [
    {
     "name": "stdout",
     "output_type": "stream",
     "text": [
      "Transpose = [[ 0.98463153  0.32513755 -0.05814333]\n",
      " [ 0.12867984 -0.0942763   1.22328457]\n",
      " [-1.35543483 -0.65870067  0.05531716]]\n",
      "\n",
      "Sum: 0.5504955250412655\n",
      "Trace: 0.9456723889838698\n",
      "\n",
      "Scalar multiplication: [[  9.84631534   1.28679839 -13.55434834]\n",
      " [  3.25137553  -0.94276302  -6.58700672]\n",
      " [ -0.58143325  12.23284575   0.55317157]]\n",
      "\n",
      "Inverse matrix: [[ 3.08860794 -6.42441685 -0.82001511]\n",
      " [ 0.07836984 -0.09391431  0.80198958]\n",
      " [ 1.51333383 -4.67581925 -0.51954755]]\n",
      "\n",
      "Determinant: 0.25919873628127793\n"
     ]
    }
   ],
   "source": [
    "m = np.random.randn(3,3)\n",
    "print(f\"Transpose = {m.T}\")\n",
    "print(f\"\\nSum: {m.sum()}\")\n",
    "print(f\"Trace: {m.trace()}\")\n",
    "print(f\"\\nScalar multiplication: {m * 10}\")\n",
    "print(f\"\\nInverse matrix: {np.linalg.inv(m)}\") # <- Computed inverse using LU factorisation\n",
    "print(f\"\\nDeterminant: {np.linalg.det(m)}\")"
   ]
  },
  {
   "cell_type": "code",
   "execution_count": 3,
   "metadata": {},
   "outputs": [
    {
     "name": "stdout",
     "output_type": "stream",
     "text": [
      "Eigen Values: [0.01322584 1.5204613  3.34092902]\n",
      "Eigen Vectors: [[ 0.82441687  0.01841541  0.56568339]\n",
      " [ 0.00313031 -0.9996036   0.02797931]\n",
      " [ 0.5659744  -0.02129585 -0.82414772]]\n"
     ]
    }
   ],
   "source": [
    "# Eigen values\n",
    "s = m.T @ m # construct a real symmetric matrix: A^T A\n",
    "eigVals, eigVecs = np.linalg.eigh(s) # `eigh` is optimised for symmetric matrices, compared to the generalist `eig`\n",
    "print(f\"Eigen Values: {eigVals}\")\n",
    "print(f\"Eigen Vectors: {eigVecs}\")"
   ]
  },
  {
   "cell_type": "code",
   "execution_count": 4,
   "metadata": {},
   "outputs": [],
   "source": [
    "# Solving Equations\n",
    "sz = 100\n",
    "A = np.random.randn(sz, sz)\n",
    "A = A @ A.T # Make `A` into a positive semi-definite matrix (x^T.M.x >= 0) by representing it as a symmetric matrix\n",
    "b = np.random.randn(sz)\n",
    "# By positive semi-definiteness, `b.T @ A @ b` >= 0"
   ]
  },
  {
   "cell_type": "code",
   "execution_count": 5,
   "metadata": {},
   "outputs": [
    {
     "name": "stdout",
     "output_type": "stream",
     "text": [
      "Condition number for A: 110667.37408080988, (could be worse)\n",
      "330.7890493425934\n"
     ]
    }
   ],
   "source": [
    "# by direct inversion using LU factorisation\n",
    "x = np.linalg.inv(A) * b\n",
    "print(f\"Condition number for A: {np.linalg.cond(A)}, (could be worse)\")\n",
    "print(np.linalg.norm(x))"
   ]
  },
  {
   "cell_type": "code",
   "execution_count": 6,
   "metadata": {},
   "outputs": [
    {
     "name": "stdout",
     "output_type": "stream",
     "text": [
      "264.77405108798933\n"
     ]
    }
   ],
   "source": [
    "# QR decomposition\n",
    "import scipy\n",
    "def qr_solve(A, b):\n",
    "    Q, R = np.linalg.qr(A)\n",
    "    # Q is orthonormal, therefore, its transpose is also its inverse\n",
    "    p = Q.T @ b\n",
    "    Rinv = np.linalg.inv(R) # can't be bothered to solve directly using upper triangular R structure\n",
    "    return Rinv @ p\n",
    "    # return scipy.linalg.solve_triangular(R, p)\n",
    "\n",
    "x = qr_solve(A, b)\n",
    "print(np.linalg.norm(x)) # <- norm is much lower here, QR decomp is much more stable and accurate"
   ]
  },
  {
   "cell_type": "code",
   "execution_count": 7,
   "metadata": {},
   "outputs": [
    {
     "name": "stdout",
     "output_type": "stream",
     "text": [
      "264.7740510877372\n"
     ]
    }
   ],
   "source": [
    "# Cholesky decomp\n",
    "L = np.linalg.cholesky(A)\n",
    "y = np.linalg.solve(L, b)\n",
    "x = np.linalg.solve(L.T, y)\n",
    "print(np.linalg.norm(x))"
   ]
  },
  {
   "cell_type": "markdown",
   "metadata": {},
   "source": [
    "## Replicating Eigen Geometry with Numpy/Scipy"
   ]
  },
  {
   "cell_type": "code",
   "execution_count": 8,
   "metadata": {},
   "outputs": [],
   "source": [
    "from scipy.spatial.transform import Rotation as R"
   ]
  },
  {
   "cell_type": "code",
   "execution_count": 9,
   "metadata": {},
   "outputs": [
    {
     "name": "stdout",
     "output_type": "stream",
     "text": [
      "[[1. 0. 0.]\n",
      " [0. 1. 0.]\n",
      " [0. 0. 1.]]\n",
      "[0. 0. 0. 1.]\n",
      "[0. 0. 0.]\n"
     ]
    }
   ],
   "source": [
    "id_rot = R.identity()\n",
    "print(id_rot.as_matrix())\n",
    "print(id_rot.as_quat()) # scalar last format\n",
    "print(id_rot.as_rotvec())"
   ]
  },
  {
   "cell_type": "code",
   "execution_count": 43,
   "metadata": {},
   "outputs": [
    {
     "name": "stdout",
     "output_type": "stream",
     "text": [
      "<scipy.spatial.transform._rotation.Rotation object at 0x11c13f780>\n",
      "[0.70710678 0.70710678 0.        ]\n"
     ]
    }
   ],
   "source": [
    "# Axis Angle Representation\n",
    "rotvec = R.from_euler('z', np.pi/4) # 45 degree rotation along the z-axis\n",
    "print(rotvec.as_matrix)\n",
    "\n",
    "v = np.array([1, 0, 0])\n",
    "v_rotated = rotvec.apply(v)\n",
    "print(v_rotated)"
   ]
  },
  {
   "cell_type": "code",
   "execution_count": 78,
   "metadata": {},
   "outputs": [
    {
     "name": "stdout",
     "output_type": "stream",
     "text": [
      "[0.70710678 0.70710678 0.        ]\n"
     ]
    }
   ],
   "source": [
    "from Transforms import Transform\n",
    "\n",
    "T = Transform.identity()\n",
    "\n",
    "T.rotate(rotvec)\n",
    "# T.pretranslate(np.array([1, 3, 4]))\n",
    "\n",
    "v = np.array([1, 0, 0])\n",
    "v_rot = T * v\n",
    "print(v_rot)"
   ]
  },
  {
   "cell_type": "code",
   "execution_count": 79,
   "metadata": {},
   "outputs": [
    {
     "name": "stdout",
     "output_type": "stream",
     "text": [
      "<scipy.spatial.transform._rotation.Rotation object at 0x11c13f780>\n",
      "[0.70710678 0.70710678 0.        ]\n"
     ]
    }
   ],
   "source": [
    "q = rotvec\n",
    "v_rot = q.apply(v)\n",
    "print(v_rot)"
   ]
  },
  {
   "cell_type": "code",
   "execution_count": null,
   "metadata": {},
   "outputs": [],
   "source": [
    "# Coordinate transformation example"
   ]
  }
 ],
 "metadata": {
  "kernelspec": {
   "display_name": "Python 3",
   "language": "python",
   "name": "python3"
  },
  "language_info": {
   "codemirror_mode": {
    "name": "ipython",
    "version": 3
   },
   "file_extension": ".py",
   "mimetype": "text/x-python",
   "name": "python",
   "nbconvert_exporter": "python",
   "pygments_lexer": "ipython3",
   "version": "3.12.2"
  }
 },
 "nbformat": 4,
 "nbformat_minor": 2
}
